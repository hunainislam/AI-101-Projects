{
  "nbformat": 4,
  "nbformat_minor": 0,
  "metadata": {
    "colab": {
      "provenance": [],
      "authorship_tag": "ABX9TyPhekR8ZKrSK9ZGWSu2vM92",
      "include_colab_link": true
    },
    "kernelspec": {
      "name": "python3",
      "display_name": "Python 3"
    },
    "language_info": {
      "name": "python"
    }
  },
  "cells": [
    {
      "cell_type": "markdown",
      "metadata": {
        "id": "view-in-github",
        "colab_type": "text"
      },
      "source": [
        "<a href=\"https://colab.research.google.com/github/hunainislam/AI-101-Projects/blob/main/01_Mad_libs_Python.ipynb\" target=\"_parent\"><img src=\"https://colab.research.google.com/assets/colab-badge.svg\" alt=\"Open In Colab\"/></a>"
      ]
    },
    {
      "cell_type": "code",
      "execution_count": null,
      "metadata": {
        "colab": {
          "base_uri": "https://localhost:8080/"
        },
        "id": "Euf1u9gd9Y0y",
        "outputId": "1a4d890f-6767-4863-8c7c-6a7797db51f8"
      },
      "outputs": [
        {
          "output_type": "stream",
          "name": "stdout",
          "text": [
            "\n",
            "🌟🌟🌟🌟🌟🌟🌟🌟🌟🌟🌟🌟🌟🌟🌟🌟🌟🌟🌟🌟\n",
            "       MAD LIBS EXTREME!\n",
            "🌟🌟🌟🌟🌟🌟🌟🌟🌟🌟🌟🌟🌟🌟🌟🌟🌟🌟🌟🌟\n",
            "\n",
            "Choose your adventure:\n",
            "1. Space Adventure\n",
            "2. Magical Quest\n",
            "3. Startup Drama\n",
            "0. Exit program\n",
            "\n",
            "Enter story number (0-3): 0\n",
            "\n",
            "Thanks for playing! 🎉\n"
          ]
        }
      ],
      "source": [
        "def main():\n",
        "    stories = [\n",
        "        {\n",
        "            'title': 'Space Adventure',\n",
        "            'prompts': [\n",
        "                ('name', 'Enter a astronaut name: '),\n",
        "                ('planet', 'Enter a planet name: '),\n",
        "                ('alien', 'Enter an alien species: '),\n",
        "                ('verb', 'Enter a verb: '),\n",
        "                ('food', 'Enter a weird food: '),\n",
        "                ('emotion', 'Enter an emotion: ')\n",
        "            ],\n",
        "            'template': \"\"\"\\n🚀 {name} blasted off to planet {planet} for an important mission.\n",
        "While exploring the surface, a group of {alien} appeared! They started {verb} furiously.\n",
        "After communicating through dance, {name} shared {food} with them.\n",
        "Everyone felt {emotion} and formed an interstellar alliance! 🌌\"\"\"\n",
        "        },\n",
        "        {\n",
        "            'title': 'Magical Quest',\n",
        "            'prompts': [\n",
        "                ('hero', 'Enter a hero name: '),\n",
        "                ('magic_item', 'Enter a magical item: '),\n",
        "                ('creature', 'Enter a mythical creature: '),\n",
        "                ('spell', 'Enter a magic spell: '),\n",
        "                ('location', 'Enter a magical location: '),\n",
        "                ('adjective', 'Enter an adjective: ')\n",
        "            ],\n",
        "            'template': \"\"\"\\n✨ The brave {hero} embarked on a quest to find the {magic_item}.\n",
        "They encountered a {creature} guarding the ancient {location}.\n",
        "With a shout of \"{spell}!\", the {creature} transformed into a {adjective} butterfly.\n",
        "Peace was restored to the realm! 🏰\"\"\"\n",
        "        },\n",
        "        {\n",
        "            'title': 'Startup Drama',\n",
        "            'prompts': [\n",
        "                ('ceo', 'Enter a CEO name: '),\n",
        "                ('tech', 'Enter new technology: '),\n",
        "                ('animal', 'Enter a spirit animal: '),\n",
        "                ('exclamation', 'Enter an exclamation (ALL CAPS): '),\n",
        "                ('number', 'Enter a crazy valuation: '),\n",
        "                ('adjective', 'Enter an adjective: ')\n",
        "            ],\n",
        "            'template': \"\"\"\\n💻 {ceo} launched a startup called {tech}Hub.\n",
        "During a pitch meeting, a {animal} stormed in shouting \"{exclamation}!\".\n",
        "Investors went wild, valuing the company at ${number} billion.\n",
        "The {adjective} revolution had begun! 📈\"\"\"\n",
        "        }\n",
        "    ]\n",
        "\n",
        "    while True:\n",
        "        print(\"\\n\" + \"🌟\" * 20)\n",
        "        print(\"       MAD LIBS EXTREME!\")\n",
        "        print(\"🌟\" * 20 + \"\\n\")\n",
        "\n",
        "        print(\"Choose your adventure:\")\n",
        "        for idx, story in enumerate(stories, 1):\n",
        "            print(f\"{idx}. {story['title']}\")\n",
        "        print(\"0. Exit program\\n\")\n",
        "\n",
        "        while True:\n",
        "            try:\n",
        "                choice = int(input(\"Enter story number (0-{}): \".format(len(stories))))\n",
        "                if choice == 0:\n",
        "                    print(\"\\nThanks for playing! 🎉\")\n",
        "                    return\n",
        "                if 1 <= choice <= len(stories):\n",
        "                    selected_story = stories[choice-1]\n",
        "                    break\n",
        "                raise ValueError\n",
        "            except ValueError:\n",
        "                print(f\"Please enter a number between 0-{len(stories)}\")\n",
        "\n",
        "        print(\"\\n\" + \"📝\" * 20)\n",
        "        print(f\"Time to create: {selected_story['title']}\")\n",
        "        print(\"Provide these awesome inputs:\\n\")\n",
        "\n",
        "        answers = {}\n",
        "        for key, prompt in selected_story['prompts']:\n",
        "            answers[key] = input(prompt).strip()\n",
        "\n",
        "        print(\"\\n\" + \"📖\" * 20)\n",
        "        print(\"YOUR EPIC STORY:\")\n",
        "        print(selected_story['template'].format(**answers))\n",
        "        print(\"📖\" * 20 + \"\\n\")\n",
        "\n",
        "        if input(\"Play again? (y/n): \").lower() != 'y':\n",
        "            print(\"\\nThanks for playing! Keep being awesome! 😎\")\n",
        "            break\n",
        "\n",
        "if __name__ == \"__main__\":\n",
        "    main()"
      ]
    }
  ]
}
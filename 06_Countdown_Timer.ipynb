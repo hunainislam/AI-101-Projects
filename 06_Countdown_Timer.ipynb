{
  "nbformat": 4,
  "nbformat_minor": 0,
  "metadata": {
    "colab": {
      "provenance": [],
      "authorship_tag": "ABX9TyOww6KbHC2vlIMxJ8dw0sJc",
      "include_colab_link": true
    },
    "kernelspec": {
      "name": "python3",
      "display_name": "Python 3"
    },
    "language_info": {
      "name": "python"
    }
  },
  "cells": [
    {
      "cell_type": "markdown",
      "metadata": {
        "id": "view-in-github",
        "colab_type": "text"
      },
      "source": [
        "<a href=\"https://colab.research.google.com/github/hunainislam/AI-101-Projects/blob/main/06_Countdown_Timer.ipynb\" target=\"_parent\"><img src=\"https://colab.research.google.com/assets/colab-badge.svg\" alt=\"Open In Colab\"/></a>"
      ]
    },
    {
      "cell_type": "code",
      "execution_count": null,
      "metadata": {
        "colab": {
          "base_uri": "https://localhost:8080/"
        },
        "id": "4UEi1culI9Y-",
        "outputId": "9ca45242-9800-4319-97e9-f53f1db954ec"
      },
      "outputs": [
        {
          "output_type": "stream",
          "name": "stdout",
          "text": [
            "⏳ Enter countdown time in seconds: 1\n",
            "\n",
            "⏰ TIME'S UP! 🚀\n",
            "\n",
            "🔄 Do you want to start another timer? (yes/no): no\n",
            "👋 Thanks for using Countdown Timer! Goodbye!\n"
          ]
        }
      ],
      "source": [
        "import time\n",
        "import os\n",
        "\n",
        "def countdown_timer(seconds):\n",
        "    \"\"\"Countdown timer function\"\"\"\n",
        "    while seconds:\n",
        "        mins, secs = divmod(seconds, 60)  # Convert seconds to min:sec format\n",
        "        timer = f\"{mins:02}:{secs:02}\"  # Format time\n",
        "        print(f\"⏳ Time Left: {timer}\", end=\"\\r\")  # Print in same line\n",
        "        time.sleep(1)\n",
        "        seconds -= 1\n",
        "\n",
        "    print(\"\\n⏰ TIME'S UP! 🚀\")\n",
        "    play_alarm_sound()\n",
        "\n",
        "def play_alarm_sound():\n",
        "    \"\"\"Play an alarm sound when timer ends\"\"\"\n",
        "    try:\n",
        "        os.system(\"echo -e '\\a'\")  # Beep sound (for Linux & Mac)\n",
        "    except:\n",
        "        print(\"🔔 Beep! Beep!\")  # Alternative message\n",
        "\n",
        "def main():\n",
        "    while True:\n",
        "        try:\n",
        "            seconds = int(input(\"⏳ Enter countdown time in seconds: \"))\n",
        "            countdown_timer(seconds)\n",
        "        except ValueError:\n",
        "            print(\"⚠️ Please enter a valid number!\")\n",
        "            continue\n",
        "\n",
        "        again = input(\"\\n🔄 Do you want to start another timer? (yes/no): \").strip().lower()\n",
        "        if again not in [\"yes\", \"y\"]:\n",
        "            print(\"👋 Thanks for using Countdown Timer! Goodbye!\")\n",
        "            break\n",
        "\n",
        "if __name__ == \"__main__\":\n",
        "    main()\n"
      ]
    }
  ]
}
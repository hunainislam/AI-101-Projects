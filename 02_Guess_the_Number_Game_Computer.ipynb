{
  "nbformat": 4,
  "nbformat_minor": 0,
  "metadata": {
    "colab": {
      "provenance": [],
      "authorship_tag": "ABX9TyMqF+2c66DNSC+QmY/Tix/Z",
      "include_colab_link": true
    },
    "kernelspec": {
      "name": "python3",
      "display_name": "Python 3"
    },
    "language_info": {
      "name": "python"
    }
  },
  "cells": [
    {
      "cell_type": "markdown",
      "metadata": {
        "id": "view-in-github",
        "colab_type": "text"
      },
      "source": [
        "<a href=\"https://colab.research.google.com/github/hunainislam/AI-101-Projects/blob/main/02_Guess_the_Number_Game_Computer.ipynb\" target=\"_parent\"><img src=\"https://colab.research.google.com/assets/colab-badge.svg\" alt=\"Open In Colab\"/></a>"
      ]
    },
    {
      "cell_type": "code",
      "execution_count": null,
      "metadata": {
        "colab": {
          "base_uri": "https://localhost:8080/"
        },
        "id": "7L4K5O1Y9vhF",
        "outputId": "1980e74f-5092-4696-cbca-d7150e0e48fe"
      },
      "outputs": [
        {
          "output_type": "stream",
          "name": "stdout",
          "text": [
            "\n",
            "🎯 Welcome to the 'Guess the Number' Game!\n",
            "🔢 The computer has selected a random number.\n",
            "👀 Your goal is to guess it correctly!\n",
            "\n",
            "📌 Choose Difficulty Level:\n",
            "1. Easy (1-50, Unlimited Attempts)\n",
            "2. Medium (1-100, Max 10 Attempts)\n",
            "3. Hard (1-500, Max 7 Attempts)\n",
            "🎮 Enter your choice (1/2/3): 1\n",
            "🔢 Enter your guess: 3\n",
            "📉 Too Low! Try Again.\n",
            "🔢 Enter your guess: 4\n",
            "📉 Too Low! Try Again.\n",
            "🔢 Enter your guess: 90\n",
            "📈 Too High! Try Again.\n",
            "🔢 Enter your guess: 70\n",
            "📈 Too High! Try Again.\n",
            "🔢 Enter your guess: 60\n",
            "📈 Too High! Try Again.\n",
            "🔢 Enter your guess: 50\n",
            "📈 Too High! Try Again.\n",
            "🔢 Enter your guess: 40\n",
            "📈 Too High! Try Again.\n",
            "🔢 Enter your guess: 30\n",
            "📈 Too High! Try Again.\n",
            "🔢 Enter your guess: 20\n",
            "📉 Too Low! Try Again.\n",
            "🔢 Enter your guess: 25\n",
            "🎉 Congratulations! You guessed the correct number 25 in 10 attempts.\n",
            "🏆 Your Score: 55\n",
            "\n",
            "🔄 Do you want to play again? (yes/no): no\n",
            "👋 Thanks for playing! Goodbye!\n"
          ]
        }
      ],
      "source": [
        "import random\n",
        "import time\n",
        "\n",
        "def welcome_message():\n",
        "    print(\"\\n🎯 Welcome to the 'Guess the Number' Game!\")\n",
        "    print(\"🔢 The computer has selected a random number.\")\n",
        "    print(\"👀 Your goal is to guess it correctly!\\n\")\n",
        "\n",
        "def choose_difficulty():\n",
        "    print(\"📌 Choose Difficulty Level:\")\n",
        "    print(\"1. Easy (1-50, Unlimited Attempts)\")\n",
        "    print(\"2. Medium (1-100, Max 10 Attempts)\")\n",
        "    print(\"3. Hard (1-500, Max 7 Attempts)\")\n",
        "\n",
        "    while True:\n",
        "        try:\n",
        "            choice = int(input(\"🎮 Enter your choice (1/2/3): \"))\n",
        "            if choice == 1:\n",
        "                return 50, None  # Easy Mode: No attempt limit\n",
        "            elif choice == 2:\n",
        "                return 100, 10  # Medium Mode: 10 attempts\n",
        "            elif choice == 3:\n",
        "                return 500, 7  # Hard Mode: 7 attempts\n",
        "            else:\n",
        "                print(\"❌ Invalid choice! Please select 1, 2, or 3.\")\n",
        "        except ValueError:\n",
        "            print(\"⚠️ Enter a valid number (1, 2, or 3).\")\n",
        "\n",
        "def get_user_guess():\n",
        "    while True:\n",
        "        try:\n",
        "            return int(input(\"🔢 Enter your guess: \"))\n",
        "        except ValueError:\n",
        "            print(\"⚠️ Please enter a valid number!\")\n",
        "\n",
        "def play_game():\n",
        "    welcome_message()\n",
        "    max_range, max_attempts = choose_difficulty()\n",
        "    secret_number = random.randint(1, max_range)\n",
        "\n",
        "    attempts = 0\n",
        "    score = 100  # Start with 100 points\n",
        "\n",
        "    while max_attempts is None or attempts < max_attempts:\n",
        "        guess = get_user_guess()\n",
        "        attempts += 1\n",
        "\n",
        "        if guess < secret_number:\n",
        "            print(\"📉 Too Low! Try Again.\")\n",
        "        elif guess > secret_number:\n",
        "            print(\"📈 Too High! Try Again.\")\n",
        "        else:\n",
        "            print(f\"🎉 Congratulations! You guessed the correct number {secret_number} in {attempts} attempts.\")\n",
        "            score -= (attempts - 1) * 5  # Reduce score per wrong attempt\n",
        "            print(f\"🏆 Your Score: {max(score, 0)}\\n\")\n",
        "            break\n",
        "\n",
        "    if max_attempts and attempts >= max_attempts:\n",
        "        print(f\"❌ You've used all {max_attempts} attempts! The correct number was {secret_number}.\\n\")\n",
        "\n",
        "def main():\n",
        "    while True:\n",
        "        play_game()\n",
        "        play_again = input(\"🔄 Do you want to play again? (yes/no): \").strip().lower()\n",
        "        if play_again not in [\"yes\", \"y\"]:\n",
        "            print(\"👋 Thanks for playing! Goodbye!\")\n",
        "            break\n",
        "\n",
        "if __name__ == \"__main__\":\n",
        "    main()"
      ]
    }
  ]
}
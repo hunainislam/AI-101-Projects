{
  "nbformat": 4,
  "nbformat_minor": 0,
  "metadata": {
    "colab": {
      "provenance": [],
      "authorship_tag": "ABX9TyMh+T7soBC7VPHGxoGW3kKT",
      "include_colab_link": true
    },
    "kernelspec": {
      "name": "python3",
      "display_name": "Python 3"
    },
    "language_info": {
      "name": "python"
    }
  },
  "cells": [
    {
      "cell_type": "markdown",
      "metadata": {
        "id": "view-in-github",
        "colab_type": "text"
      },
      "source": [
        "<a href=\"https://colab.research.google.com/github/hunainislam/AI-101-Projects/blob/main/04_Rock_paper_scissors.ipynb\" target=\"_parent\"><img src=\"https://colab.research.google.com/assets/colab-badge.svg\" alt=\"Open In Colab\"/></a>"
      ]
    },
    {
      "cell_type": "code",
      "execution_count": null,
      "metadata": {
        "colab": {
          "base_uri": "https://localhost:8080/"
        },
        "id": "u1CgAoQT_I9R",
        "outputId": "7ef524e6-f074-4376-aaa6-5ecc12ead11e"
      },
      "outputs": [
        {
          "output_type": "stream",
          "name": "stdout",
          "text": [
            "\n",
            "🎮 New Round! 🎮\n",
            "✊ Rock, 📜 Paper, or ✂️ Scissors? Rock\n",
            "🧑 You chose: rock\n",
            "🤖 Computer chose: scissors\n",
            "🏆 Result: 🎉 You win!\n",
            "📊 Scoreboard: You - 1 | Computer - 0\n",
            "🔄 Play again? (yes/no): no\n",
            "👋 Thanks for playing! Goodbye!\n"
          ]
        }
      ],
      "source": [
        "import random\n",
        "import time\n",
        "\n",
        "def get_user_choice():\n",
        "    \"\"\"User se input lene ka function (Validations ke saath)\"\"\"\n",
        "    choices = [\"rock\", \"paper\", \"scissors\"]\n",
        "    while True:\n",
        "        user_choice = input(\"✊ Rock, 📜 Paper, or ✂️ Scissors? \").strip().lower()\n",
        "        if user_choice in choices:\n",
        "            return user_choice\n",
        "        print(\"⚠️ Invalid choice! Please enter 'rock', 'paper', or 'scissors'.\")\n",
        "\n",
        "def get_computer_choice():\n",
        "    \"\"\"Computer ka random choice\"\"\"\n",
        "    return random.choice([\"rock\", \"paper\", \"scissors\"])\n",
        "\n",
        "def determine_winner(user, computer):\n",
        "    \"\"\"Winner decide karne ka logic\"\"\"\n",
        "    print(f\"🧑 You chose: {user}\")\n",
        "    print(f\"🤖 Computer chose: {computer}\")\n",
        "\n",
        "    if user == computer:\n",
        "        return \"It's a tie! 😐\"\n",
        "    elif (user == \"rock\" and computer == \"scissors\") or \\\n",
        "         (user == \"scissors\" and computer == \"paper\") or \\\n",
        "         (user == \"paper\" and computer == \"rock\"):\n",
        "        return \"🎉 You win!\"\n",
        "    else:\n",
        "        return \"💀 Computer wins!\"\n",
        "\n",
        "def play_game():\n",
        "    \"\"\"Ek round play karne ka function\"\"\"\n",
        "    user_score = 0\n",
        "    computer_score = 0\n",
        "\n",
        "    while True:\n",
        "        print(\"\\n🎮 New Round! 🎮\")\n",
        "        user_choice = get_user_choice()\n",
        "        computer_choice = get_computer_choice()\n",
        "\n",
        "        result = determine_winner(user_choice, computer_choice)\n",
        "        print(f\"🏆 Result: {result}\")\n",
        "\n",
        "        # Score update\n",
        "        if \"You win\" in result:\n",
        "            user_score += 1\n",
        "        elif \"Computer wins\" in result:\n",
        "            computer_score += 1\n",
        "\n",
        "        print(f\"📊 Scoreboard: You - {user_score} | Computer - {computer_score}\")\n",
        "\n",
        "        play_again = input(\"🔄 Play again? (yes/no): \").strip().lower()\n",
        "        if play_again not in [\"yes\", \"y\"]:\n",
        "            print(\"👋 Thanks for playing! Goodbye!\")\n",
        "            break\n",
        "\n",
        "if __name__ == \"__main__\":\n",
        "    play_game()\n"
      ]
    }
  ]
}
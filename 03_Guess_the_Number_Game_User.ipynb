{
  "nbformat": 4,
  "nbformat_minor": 0,
  "metadata": {
    "colab": {
      "provenance": [],
      "authorship_tag": "ABX9TyM9ikElCc56ruAJTtwat4bM",
      "include_colab_link": true
    },
    "kernelspec": {
      "name": "python3",
      "display_name": "Python 3"
    },
    "language_info": {
      "name": "python"
    }
  },
  "cells": [
    {
      "cell_type": "markdown",
      "metadata": {
        "id": "view-in-github",
        "colab_type": "text"
      },
      "source": [
        "<a href=\"https://colab.research.google.com/github/hunainislam/AI-101-Projects/blob/main/03_Guess_the_Number_Game_User.ipynb\" target=\"_parent\"><img src=\"https://colab.research.google.com/assets/colab-badge.svg\" alt=\"Open In Colab\"/></a>"
      ]
    },
    {
      "cell_type": "code",
      "execution_count": null,
      "metadata": {
        "colab": {
          "base_uri": "https://localhost:8080/"
        },
        "id": "aF02X17I-sS0",
        "outputId": "4099abf4-b225-49af-dcc9-4f868dc25488"
      },
      "outputs": [
        {
          "output_type": "stream",
          "name": "stdout",
          "text": [
            "\n",
            "🤖 Welcome to 'Guess the Number' - Computer Edition!\n",
            "🧠 Think of a number in your mind, and the computer will try to guess it.\n",
            "🔢 You just need to give hints: 'h' (Too High), 'l' (Too Low), 'c' (Correct)\n",
            "\n",
            "🔢 Enter the lower bound: h\n",
            "⚠️ Please enter valid numbers!\n",
            "🔢 Enter the lower bound: l\n",
            "⚠️ Please enter valid numbers!\n",
            "🔢 Enter the lower bound: 9\n",
            "🔢 Enter the upper bound: 0\n",
            "❌ Upper bound must be greater than lower bound!\n",
            "🔢 Enter the lower bound: 8\n",
            "🔢 Enter the upper bound: 90\n",
            "🤔 Computer guesses: 89\n",
            "📢 Enter feedback (h/l/c): c\n",
            "🎉 Computer guessed correctly in 1 attempts!\n",
            "\n",
            "🔄 Do you want to play again? (yes/no): no\n",
            "👋 Thanks for playing! Goodbye!\n"
          ]
        }
      ],
      "source": [
        "import random\n",
        "import time\n",
        "\n",
        "def welcome_message():\n",
        "    print(\"\\n🤖 Welcome to 'Guess the Number' - Computer Edition!\")\n",
        "    print(\"🧠 Think of a number in your mind, and the computer will try to guess it.\")\n",
        "    print(\"🔢 You just need to give hints: 'h' (Too High), 'l' (Too Low), 'c' (Correct)\\n\")\n",
        "\n",
        "def get_user_feedback():\n",
        "    while True:\n",
        "        feedback = input(\"📢 Enter feedback (h/l/c): \").strip().lower()\n",
        "        if feedback in [\"h\", \"l\", \"c\"]:\n",
        "            return feedback\n",
        "        print(\"⚠️ Invalid input! Please enter 'h' for too high, 'l' for too low, or 'c' for correct.\")\n",
        "\n",
        "def play_game():\n",
        "    welcome_message()\n",
        "\n",
        "    while True:\n",
        "        try:\n",
        "            lower = int(input(\"🔢 Enter the lower bound: \"))\n",
        "            upper = int(input(\"🔢 Enter the upper bound: \"))\n",
        "            if lower >= upper:\n",
        "                print(\"❌ Upper bound must be greater than lower bound!\")\n",
        "            else:\n",
        "                break\n",
        "        except ValueError:\n",
        "            print(\"⚠️ Please enter valid numbers!\")\n",
        "\n",
        "    attempts = 0\n",
        "    guessed_correctly = False\n",
        "\n",
        "    while not guessed_correctly:\n",
        "        guess = random.randint(lower, upper)\n",
        "        attempts += 1\n",
        "        print(f\"🤔 Computer guesses: {guess}\")\n",
        "        feedback = get_user_feedback()\n",
        "\n",
        "        if feedback == \"h\":\n",
        "            upper = guess - 1\n",
        "        elif feedback == \"l\":\n",
        "            lower = guess + 1\n",
        "        elif feedback == \"c\":\n",
        "            print(f\"🎉 Computer guessed correctly in {attempts} attempts!\\n\")\n",
        "            guessed_correctly = True\n",
        "\n",
        "        if lower > upper:\n",
        "            print(\"😕 Seems like there was an issue with the feedback. Please try again.\\n\")\n",
        "            break\n",
        "\n",
        "def main():\n",
        "    while True:\n",
        "        play_game()\n",
        "        play_again = input(\"🔄 Do you want to play again? (yes/no): \").strip().lower()\n",
        "        if play_again not in [\"yes\", \"y\"]:\n",
        "            print(\"👋 Thanks for playing! Goodbye!\")\n",
        "            break\n",
        "\n",
        "if __name__ == \"__main__\":\n",
        "    main()\n"
      ]
    }
  ]
}
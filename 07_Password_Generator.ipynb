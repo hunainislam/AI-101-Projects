{
  "nbformat": 4,
  "nbformat_minor": 0,
  "metadata": {
    "colab": {
      "provenance": [],
      "authorship_tag": "ABX9TyNYBJuWPhfJ750dEVUNEOQ0",
      "include_colab_link": true
    },
    "kernelspec": {
      "name": "python3",
      "display_name": "Python 3"
    },
    "language_info": {
      "name": "python"
    }
  },
  "cells": [
    {
      "cell_type": "markdown",
      "metadata": {
        "id": "view-in-github",
        "colab_type": "text"
      },
      "source": [
        "<a href=\"https://colab.research.google.com/github/hunainislam/AI-101-Projects/blob/main/07_Password_Generator.ipynb\" target=\"_parent\"><img src=\"https://colab.research.google.com/assets/colab-badge.svg\" alt=\"Open In Colab\"/></a>"
      ]
    },
    {
      "cell_type": "code",
      "execution_count": null,
      "metadata": {
        "colab": {
          "base_uri": "https://localhost:8080/"
        },
        "id": "7F-WkbOEJLB3",
        "outputId": "6e4b2160-34f5-4df9-b112-8e1dc33e2ae6"
      },
      "outputs": [
        {
          "output_type": "stream",
          "name": "stdout",
          "text": [
            "🔐 Welcome to the Advanced Password Generator!\n",
            "🔢 How many passwords do you want to generate? 5\n",
            "🔢 Enter password length: 5\n",
            "\n",
            "🔑 Generated Passwords:\n",
            "------------------------------\n",
            "1. JTg#,\n",
            "2. \"2:Gt\n",
            "3. 8<vE;\n",
            "4. rQ$[,\n",
            "5. 7:%2X\n",
            "\n",
            "📋 First password copied to clipboard!\n",
            "\n",
            "🔄 Do you want to generate more passwords? (yes/no): no\n",
            "👋 Thanks for using Password Generator! Stay Secure! 🔒\n"
          ]
        }
      ],
      "source": [
        "import random\n",
        "import string\n",
        "import pyperclip  # To copy passwords to clipboard\n",
        "\n",
        "def generate_password(length=12):\n",
        "    \"\"\"Generate a strong random password of given length.\"\"\"\n",
        "    characters = string.ascii_letters + string.digits + string.punctuation\n",
        "    return ''.join(random.choice(characters) for _ in range(length))\n",
        "\n",
        "def main():\n",
        "    print(\"🔐 Welcome to the Advanced Password Generator!\")\n",
        "\n",
        "    while True:\n",
        "        try:\n",
        "            num_passwords = int(input(\"🔢 How many passwords do you want to generate? \"))\n",
        "            length = int(input(\"🔢 Enter password length: \"))\n",
        "\n",
        "            if length < 4:\n",
        "                print(\"⚠️ Password length should be at least 4 characters for security!\")\n",
        "                continue\n",
        "\n",
        "            print(\"\\n🔑 Generated Passwords:\\n\" + \"-\"*30)\n",
        "            passwords = [generate_password(length) for _ in range(num_passwords)]\n",
        "\n",
        "            for i, pwd in enumerate(passwords, 1):\n",
        "                print(f\"{i}. {pwd}\")\n",
        "\n",
        "            print(\"\\n📋 First password copied to clipboard!\")\n",
        "\n",
        "        except ValueError:\n",
        "            print(\"⚠️ Please enter a valid number!\")\n",
        "            continue\n",
        "\n",
        "        again = input(\"\\n🔄 Do you want to generate more passwords? (yes/no): \").strip().lower()\n",
        "        if again not in [\"yes\", \"y\"]:\n",
        "            print(\"👋 Thanks for using Password Generator! Stay Secure! 🔒\")\n",
        "            break\n",
        "\n",
        "if __name__ == \"__main__\":\n",
        "    main()\n"
      ]
    }
  ]
}